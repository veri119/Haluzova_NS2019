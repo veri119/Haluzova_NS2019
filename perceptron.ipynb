{
  "cells": [
    {
      "metadata": {
        "trusted": true
      },
      "cell_type": "code",
      "source": "import pandas as pd\nimport numpy as np\nimport matplotlib.pyplot as plt\n\ndf = pd.read_csv('https://archive.ics.uci.edu/ml/machine-learning-databases/iris/iris.data',header=None)\n",
      "execution_count": 23,
      "outputs": []
    },
    {
      "metadata": {
        "trusted": true
      },
      "cell_type": "code",
      "source": "pom=[] #pomocna premenna\nclass Perceptron():   #nazov triedy\n    def __init__(self, rychlost_ucenia=0.01, pocet_iteracii=10):   #konstruktor - rychlost ucenia = koeficient rychlosti ucenia sa\n        self.eta = rychlost_ucenia \n        self.n_iter = pocet_iteracii      #definuje sa rychlost ucnia a pocet iteraci\n    \n    def fit(self, X,y):                 #inicializacia vahoveho vektora, vahy = matica  obsahujuca 1 riadok\n        self.vahy = np.zeros(1+ X.shape[1])   \n        self.errors_=[]  #premenna, kt. neskor v grave vyjadr. chybu \n        \n        for i in range(self.n_iter):   #cyklus s poctom opaovani=pocet iteraci, \n            errors = 0   #premenna, citanie chyby \n            for matica,vystup in zip(X,y):  #Zoskupí sa X a y - nový iterovateľný objekt  \n                update = self.eta * (vystup-self.predikcia(matica))\n                self.vahy[1:] += update*matica  #pravidlá pre učenie sa\n                self.vahy[0]+= update # učenie sa bez násobenia s maticou, dostaneme 'errors'\n                errors += int(update !=0.0)   #ak update je ina hodnota ako 0.0, pripočitanie do erroru\n            self.errors_.append(errors)     #k errors sa postupne pripaja error \n            print (\"Error:\")\n            print(errors) #postupne vypisuje error, vidiet ako postupne klesa\n            pom.append(errors) #do pomocnej premennej - pola sa pripoji hodnota erroru - koli vykresleniu v grafe\n       \n        return self  \n\n    def net_input(self, X):  \n        return np.dot(X, self.vahy[1:])+ self.vahy[0] #metoda vracajuca vynasob. vstup X s váhou (self.vahy[1:]), k tej je pripocitana vaha (self.vahy[0])\n\n    def predikcia(self, X):  #metóda predpovedania, f (x) = 1, ak w.x + b> 0: 0 inak algoritmus, vstupy očakávajú, že ide o pole s čiarami / vektorom dimenzie rovnajúcej sa poctu vstupov\n        return np.where(self.net_input(X) >= 0.0, 1, -1)   \n",
      "execution_count": 24,
      "outputs": []
    },
    {
      "metadata": {
        "trusted": true
      },
      "cell_type": "code",
      "source": "#do prvy a treti stlpec [0,2] sa natiahne 100 zaznamov\nX = df.iloc[0:100,[0,2]].values\ny = df.iloc[0:100,4].values\n\ny = np.where(y=='Iris-setosa',-1,1)\n\nppn = Perceptron() \n\nerr = ppn.fit(X,y)\nplt.plot(pom)  #do premennej sa nacital error \nplt.show()    #zobrazenie grafu",
      "execution_count": 25,
      "outputs": [
        {
          "output_type": "stream",
          "text": "Error:\n2\nError:\n2\nError:\n3\nError:\n2\nError:\n1\nError:\n0\nError:\n0\nError:\n0\nError:\n0\nError:\n0\n",
          "name": "stdout"
        },
        {
          "output_type": "display_data",
          "data": {
            "image/png": "[encoded data removed]",
            "text/plain": "<Figure size 432x288 with 1 Axes>"
          },
          "metadata": {
            "needs_background": "light"
          }
        }
      ]
    },
    {
      "metadata": {
        "trusted": true
      },
      "cell_type": "code",
      "source": "\nprint(X[:5])\nprint(y)",
      "execution_count": 26,
      "outputs": [
        {
          "output_type": "stream",
          "text": "[[5.1 1.4]\n [4.9 1.4]\n [4.7 1.3]\n [4.6 1.5]\n [5.  1.4]]\n[-1 -1 -1 -1 -1 -1 -1 -1 -1 -1 -1 -1 -1 -1 -1 -1 -1 -1 -1 -1 -1 -1 -1 -1\n -1 -1 -1 -1 -1 -1 -1 -1 -1 -1 -1 -1 -1 -1 -1 -1 -1 -1 -1 -1 -1 -1 -1 -1\n -1 -1  1  1  1  1  1  1  1  1  1  1  1  1  1  1  1  1  1  1  1  1  1  1\n  1  1  1  1  1  1  1  1  1  1  1  1  1  1  1  1  1  1  1  1  1  1  1  1\n  1  1  1  1]\n",
          "name": "stdout"
        }
      ]
    },
    {
      "metadata": {
        "trusted": true
      },
      "cell_type": "code",
      "source": "print(\"Postupné chyby\")\nprint(err.errors_[1:10])\n\nprint(\"Hodnoty váh\")\nprint(err.vahy)",
      "execution_count": 27,
      "outputs": [
        {
          "output_type": "stream",
          "text": "Postupné chyby\n[2, 3, 2, 1, 0, 0, 0, 0, 0]\nHodnoty váh\n[-0.04  -0.068  0.182]\n",
          "name": "stdout"
        }
      ]
    }
  ],
  "metadata": {
    "kernelspec": {
      "name": "python36",
      "display_name": "Python 3.6",
      "language": "python"
    },
    "language_info": {
      "mimetype": "text/x-python",
      "nbconvert_exporter": "python",
      "name": "python",
      "pygments_lexer": "ipython3",
      "version": "3.6.6",
      "file_extension": ".py",
      "codemirror_mode": {
        "version": 3,
        "name": "ipython"
      }
    }
  },
  "nbformat": 4,
  "nbformat_minor": 2
}